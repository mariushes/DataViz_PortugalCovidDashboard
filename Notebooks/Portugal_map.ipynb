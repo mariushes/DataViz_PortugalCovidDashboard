{
 "cells": [
  {
   "cell_type": "code",
   "execution_count": 125,
   "id": "delayed-dimension",
   "metadata": {},
   "outputs": [],
   "source": [
    "#from urllib.request import urlopen\n",
    "import json\n",
    "\n",
    "import pandas as pd\n",
    "import geopandas as gpd\n",
    "from shapely.geometry import MultiPolygon\n",
    "\n",
    "import plotly.express as px\n",
    "import plotly.graph_objs as go\n",
    "import plotly.io as pio\n",
    "\n",
    "import matplotlib.pyplot as plt\n",
    "\n",
    "import numpy as np"
   ]
  },
  {
   "cell_type": "markdown",
   "id": "unable-spank",
   "metadata": {},
   "source": [
    "## Shapes"
   ]
  },
  {
   "cell_type": "code",
   "execution_count": 195,
   "id": "molecular-worry",
   "metadata": {},
   "outputs": [
    {
     "data": {
      "text/html": [
       "<div>\n",
       "<style scoped>\n",
       "    .dataframe tbody tr th:only-of-type {\n",
       "        vertical-align: middle;\n",
       "    }\n",
       "\n",
       "    .dataframe tbody tr th {\n",
       "        vertical-align: top;\n",
       "    }\n",
       "\n",
       "    .dataframe thead th {\n",
       "        text-align: right;\n",
       "    }\n",
       "</style>\n",
       "<table border=\"1\" class=\"dataframe\">\n",
       "  <thead>\n",
       "    <tr style=\"text-align: right;\">\n",
       "      <th></th>\n",
       "      <th>distrito</th>\n",
       "      <th>concelho</th>\n",
       "      <th>CCA_2</th>\n",
       "      <th>geometry</th>\n",
       "    </tr>\n",
       "  </thead>\n",
       "  <tbody>\n",
       "    <tr>\n",
       "      <th>0</th>\n",
       "      <td>Évora</td>\n",
       "      <td>Évora</td>\n",
       "      <td>0705</td>\n",
       "      <td>POLYGON ((-7.79291 38.76507, -7.79287 38.76506...</td>\n",
       "    </tr>\n",
       "    <tr>\n",
       "      <th>1</th>\n",
       "      <td>Évora</td>\n",
       "      <td>Alandroal</td>\n",
       "      <td>0701</td>\n",
       "      <td>POLYGON ((-7.25937 38.77351, -7.25921 38.77343...</td>\n",
       "    </tr>\n",
       "  </tbody>\n",
       "</table>\n",
       "</div>"
      ],
      "text/plain": [
       "  distrito   concelho CCA_2                                           geometry\n",
       "0    Évora      Évora  0705  POLYGON ((-7.79291 38.76507, -7.79287 38.76506...\n",
       "1    Évora  Alandroal  0701  POLYGON ((-7.25937 38.77351, -7.25921 38.77343..."
      ]
     },
     "execution_count": 195,
     "metadata": {},
     "output_type": "execute_result"
    }
   ],
   "source": [
    "# Making geopandas dataframes for 3 Portugal parts\n",
    "geodf = gpd.read_file('concelhos-shapefile/concelhos.shp', encoding=\"utf-8\")\n",
    "\n",
    "continente_df = geodf.copy()\n",
    "continente_df = continente_df[['NAME_1', 'NAME_2', 'CCA_2', 'geometry']] # CCA_2 for unique ID\n",
    "continente_df.rename(columns={'NAME_1':'distrito', 'NAME_2':'concelho'}, inplace=True)\n",
    "\n",
    "continente_df['concelho'] = continente_df['concelho'].str.capitalize()\n",
    "\n",
    "madeira_df = continente_df[continente_df.distrito == 'Madeira']\n",
    "continente_df = continente_df[continente_df.distrito != 'Madeira']\n",
    "\n",
    "azores_df = continente_df[continente_df.distrito == 'Azores']\n",
    "continente_df = continente_df[continente_df.distrito != 'Azores']\n",
    "\n",
    "continente_df.head(2)"
   ]
  },
  {
   "cell_type": "code",
   "execution_count": 196,
   "id": "optical-newton",
   "metadata": {},
   "outputs": [],
   "source": [
    "# Simplification of Polygons for better performance\n",
    "def simplify_region(polygon):\n",
    "    tolerance=0.01\n",
    "    if polygon.geom_type == 'Polygon':\n",
    "        p = polygon.simplify(tolerance)      \n",
    "    else:\n",
    "        p = []\n",
    "        for poly in polygon: # for multipolygon\n",
    "            p_ = poly.simplify(tolerance) \n",
    "            p.append(p_)\n",
    "        p = MultiPolygon(p)\n",
    "    return p\n",
    "\n",
    "continente_df.geometry = continente_df.geometry.apply(simplify_region)\n",
    "madeira_df.geometry = madeira_df.geometry.apply(simplify_region)\n",
    "azores_df.geometry = azores_df.geometry.apply(simplify_region)"
   ]
  },
  {
   "cell_type": "code",
   "execution_count": 198,
   "id": "ahead-stock",
   "metadata": {},
   "outputs": [],
   "source": [
    "# Creation of geojsons\n",
    "continente_df.to_file(\"continente.geojson\", driver = \"GeoJSON\", encoding=\"utf-8\")\n",
    "madeira_df.to_file(\"madeira.geojson\", driver = \"GeoJSON\", encoding=\"utf-8\")\n",
    "azores_df.to_file(\"azores.geojson\", driver = \"GeoJSON\", encoding=\"utf-8\")"
   ]
  },
  {
   "cell_type": "code",
   "execution_count": 199,
   "id": "intense-relevance",
   "metadata": {},
   "outputs": [],
   "source": [
    "with open('continente.geojson', encoding='utf-8') as file:\n",
    "    continente = json.loads(file.read())\n",
    "    \n",
    "with open('madeira.geojson', encoding='utf-8') as file:\n",
    "    madeira = json.loads(file.read())\n",
    "\n",
    "with open('azores.geojson', encoding='utf-8') as file:\n",
    "    azores = json.loads(file.read())"
   ]
  },
  {
   "cell_type": "code",
   "execution_count": 200,
   "id": "oriental-croatia",
   "metadata": {},
   "outputs": [
    {
     "data": {
      "text/plain": [
       "{'distrito': 'Évora', 'concelho': 'Évora', 'CCA_2': '0705'}"
      ]
     },
     "execution_count": 200,
     "metadata": {},
     "output_type": "execute_result"
    }
   ],
   "source": [
    "continente['features'][0]['properties']"
   ]
  },
  {
   "cell_type": "code",
   "execution_count": 201,
   "id": "southern-harvest",
   "metadata": {},
   "outputs": [],
   "source": [
    "# add IDs to regions (features)\n",
    "for feature in continente[\"features\"]:\n",
    "    feature['id'] = feature['properties']['CCA_2']\n",
    "for feature in madeira[\"features\"]:\n",
    "    feature['id'] = feature['properties']['CCA_2']\n",
    "for feature in azores[\"features\"]:\n",
    "    feature['id'] = feature['properties']['CCA_2']"
   ]
  },
  {
   "cell_type": "code",
   "execution_count": 202,
   "id": "downtown-boards",
   "metadata": {},
   "outputs": [
    {
     "data": {
      "text/plain": [
       "{'distrito': 'Azores', 'concelho': 'Angra do heroísmo', 'CCA_2': '4301'}"
      ]
     },
     "execution_count": 202,
     "metadata": {},
     "output_type": "execute_result"
    }
   ],
   "source": [
    "azores['features'][0]['properties']"
   ]
  },
  {
   "cell_type": "markdown",
   "id": "optical-scratch",
   "metadata": {},
   "source": [
    "## Data"
   ]
  },
  {
   "cell_type": "code",
   "execution_count": 212,
   "id": "statewide-sleeping",
   "metadata": {},
   "outputs": [],
   "source": [
    "# generate data\n",
    "data_list = []\n",
    "\n",
    "for region in (continente, madeira, azores):\n",
    "    np.random.seed(len(region['features']))\n",
    "    \n",
    "    ids = [i['properties']['CCA_2'] for i in region['features']]\n",
    "    names = [i['properties']['concelho'] for i in region['features']]\n",
    "    values = [int(100*np.random.random()) for i in range(len(region['features']))]\n",
    "    \n",
    "    data = pd.DataFrame([ids, names, values]).T.rename(columns={0:'id', 1: 'concelho', 2: 'value'})\n",
    "    data['value'] = data['value'].astype(int)\n",
    "    data_list.append(data)\n",
    "    \n",
    "continente_data, madeira_data, azores_data = data_list"
   ]
  },
  {
   "cell_type": "code",
   "execution_count": 204,
   "id": "acoustic-outdoors",
   "metadata": {},
   "outputs": [],
   "source": [
    "palette = {'cutoff' : 'rgba(227, 78, 38, 1)', \n",
    "           'wave1' : 'rgba(247, 141, 31, 0.7)', \n",
    "           'wave2' : 'rgba(227, 78, 38, 1)',\n",
    "           'scale0' : 'rgba(172, 185, 54, 0)',\n",
    "           'scale1' : 'rgba(0, 120, 128, 1)',\n",
    "           'scale2' : 'rgba(0, 102, 102, 1)',\n",
    "           'scale3' : 'rgba(0, 70, 70, 1)',\n",
    "           'borders' : 'rgba(0, 0, 0, 1)',\n",
    "           'text' : 'rgba(114, 114, 114, 1)',\n",
    "           'legendtext' : 'black',\n",
    "           'bartext': 'black',\n",
    "           'bartitletext' : 'black',\n",
    "           'bubbletext' : 'black'\n",
    "         }"
   ]
  },
  {
   "cell_type": "code",
   "execution_count": 218,
   "id": "adequate-paper",
   "metadata": {},
   "outputs": [],
   "source": [
    "fig = go.Figure()    \n",
    "\n",
    "## Choropleth map ######\n",
    "fig.add_choropleth(geojson=continente, locations=continente_data.id,\n",
    "                        z=continente_data.value,\n",
    "                        colorscale=\"teal\",\n",
    "                        zmin=0,\n",
    "                        zmax=100,\n",
    "                        hovertext = continente_data.concelho,\n",
    "                        hoverinfo=\"text\",\n",
    "                        colorbar=dict(title={'text':'',\n",
    "                                             'font':{#'size':24,\n",
    "                                                     'family' : 'Arial',\n",
    "                                                     'color' : palette['text']},\n",
    "                                             'side':'right'},\n",
    "                                      tickfont={#'size' : 20, \n",
    "                                                'color' : palette['bartext']},\n",
    "                                      #ticks='outside',\n",
    "                                      #len=0.1,\n",
    "                                      #x=0.1\n",
    "                                     ),\n",
    "                        marker = dict(line=dict(width=1))\n",
    "                        )\n",
    "fig.update_geos(fitbounds=\"locations\", bgcolor='rgba(0,0,0,0)', visible=False)\n",
    "fig.show(renderer='browser')\n",
    "#pio.write_image(fig, 'test.png', width=1600, height=800, engine='kaleido', scale=2)"
   ]
  },
  {
   "cell_type": "code",
   "execution_count": null,
   "id": "medieval-national",
   "metadata": {},
   "outputs": [],
   "source": []
  }
 ],
 "metadata": {
  "kernelspec": {
   "display_name": "Python 3",
   "language": "python",
   "name": "python3"
  },
  "language_info": {
   "codemirror_mode": {
    "name": "ipython",
    "version": 3
   },
   "file_extension": ".py",
   "mimetype": "text/x-python",
   "name": "python",
   "nbconvert_exporter": "python",
   "pygments_lexer": "ipython3",
   "version": "3.8.3"
  }
 },
 "nbformat": 4,
 "nbformat_minor": 5
}
